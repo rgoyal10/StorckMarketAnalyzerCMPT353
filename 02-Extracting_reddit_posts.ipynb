{
 "cells": [
  {
   "cell_type": "code",
   "execution_count": 1,
   "metadata": {
    "colab": {
     "base_uri": "https://localhost:8080/"
    },
    "executionInfo": {
     "elapsed": 6018,
     "status": "ok",
     "timestamp": 1628916046325,
     "user": {
      "displayName": "CMPT 353",
      "photoUrl": "",
      "userId": "08881496583835622212"
     },
     "user_tz": 420
    },
    "id": "WNyDXYI3f7AS",
    "outputId": "a0296318-636c-47e1-be6c-8d7fd42ac802"
   },
   "outputs": [
    {
     "name": "stdout",
     "output_type": "stream",
     "text": [
      "Defaulting to user installation because normal site-packages is not writeable\n",
      "Requirement already satisfied: psaw in /home/ritika/.local/lib/python3.8/site-packages (0.1.0)\n",
      "Requirement already satisfied: Click in /usr/lib/python3/dist-packages (from psaw) (7.0)\n",
      "Requirement already satisfied: requests in /usr/lib/python3/dist-packages (from psaw) (2.22.0)\n",
      "\u001b[33mWARNING: You are using pip version 21.1.3; however, version 21.2.4 is available.\n",
      "You should consider upgrading via the '/usr/bin/python3 -m pip install --upgrade pip' command.\u001b[0m\n"
     ]
    }
   ],
   "source": [
    "!pip install psaw\n",
    "import pandas as pd\n",
    "import re\n",
    "import matplotlib.pyplot as plt\n",
    "from psaw import PushshiftAPI\n",
    "import datetime as dt\n",
    "import datetime\n",
    "from datetime import date\n",
    "import seaborn\n",
    "seaborn.set()\n",
    "import warnings\n",
    "warnings.filterwarnings(\"ignore\")"
   ]
  },
  {
   "cell_type": "markdown",
   "metadata": {
    "id": "j8M9CIa3eNeZ"
   },
   "source": [
    "# Uncomment if using Google Colab with Google drive"
   ]
  },
  {
   "cell_type": "code",
   "execution_count": 2,
   "metadata": {
    "id": "axbVHDLgeRTc"
   },
   "outputs": [],
   "source": [
    "## Uncomment it if you are using Google Collab\n",
    "# import os\n",
    "# from google.colab import drive\n",
    "# drive.mount('/content/drive/')\n",
    "# %cd /content/drive/MyDrive/cmpt353-group-project/"
   ]
  },
  {
   "cell_type": "markdown",
   "metadata": {
    "id": "mzraNluSH2sY"
   },
   "source": [
    "#  Importing files"
   ]
  },
  {
   "cell_type": "code",
   "execution_count": 3,
   "metadata": {
    "id": "Ataf-Q34HzsL"
   },
   "outputs": [],
   "source": [
    "# importing ticker symbols\n",
    "tickers = pd.read_csv('./data/Processed_data/stock_ticker.csv')\n",
    "\n",
    "# read the files.\n",
    "reddit_posts = pd.read_csv('./data/Raw_data/reddit_wsb.csv')\n",
    "reddit_comments1 = pd.read_csv('./data/Raw_data/comments_2020-11-1_2020-11-30_new.csv')\n",
    "reddit_comments2 = pd.read_csv('./data/Raw_data/comments_2020-12-1_2020-12-31_new.csv')\n",
    "reddit_comments3 = pd.read_csv('./data/Raw_data/comments_2021-1-1_2021-11-29_new.csv')\n"
   ]
  },
  {
   "cell_type": "markdown",
   "metadata": {
    "id": "BZwgoA6pI2NO"
   },
   "source": [
    "# Extracting Reddit posts (Navjot & Jyotiraditya) "
   ]
  },
  {
   "cell_type": "markdown",
   "metadata": {
    "id": "9BJBEU6KKEWz"
   },
   "source": [
    "Using CSV files (Navjot)"
   ]
  },
  {
   "cell_type": "code",
   "execution_count": 4,
   "metadata": {
    "id": "xobmH4alHzzM"
   },
   "outputs": [],
   "source": [
    "#drop the rows with no data\n",
    "reddit_posts = reddit_posts.drop(['score', 'id', 'url', 'comms_num', 'created'], axis=1)\n",
    "reddit_comments1 = reddit_comments1.dropna()\n",
    "reddit_comments2 = reddit_comments2.dropna()\n",
    "reddit_comments3 = reddit_comments3.dropna()\n",
    "\n",
    "# reference from https://stackoverflow.com/questions/60738190/regular-expression-to-find-a-series-of-uppercase-words-in-a-string\n",
    "\n",
    "#finding tickers in the text\n",
    "pattern = r'\\b([A-Z]+(?:\\'+[A-Z]+)*\\b)'\n",
    "def contains_uppercase(title):\n",
    "    list_uppercase = re.findall(pattern, title)\n",
    "    return list_uppercase\n",
    "\n",
    "total_list = [reddit_posts['title'], reddit_posts['body'], reddit_comments1['Body'], reddit_comments2['Body'], reddit_comments3['Body']]\n",
    "total_list = pd.concat(total_list)\n",
    "total_list = total_list.dropna()\n",
    "total_list = pd.DataFrame(total_list, columns=['text'])\n",
    "list_words = total_list['text'].apply(contains_uppercase)\n",
    "total_list['uppercase'] = list_words\n",
    "total_list = total_list[total_list['uppercase'].apply(len) > 0]\n",
    "list_words = list_words[list_words.apply(len) > 0]\n",
    "\n",
    "list_combined = []\n",
    "for i in list_words:\n",
    "  list_combined.extend(i)\n",
    "\n",
    "#extracted which ticker has the most count\n",
    "list_combined.sort()\n",
    "df_combined = pd.DataFrame(list_combined, columns = ['Ticker'])\n",
    "df_combined['count'] = 1\n",
    "df_combined['contains'] = df_combined['Ticker'].isin(tickers['Symbol'])\n",
    "df_combined = df_combined[df_combined['contains'] != False]\n",
    "#reference from https://datascienceparichay.com/article/pandas-groupby-count-of-rows-in-each-group/\n",
    "df_combined = df_combined.groupby('Ticker').count()\n",
    "df_combined = df_combined.drop(['contains'], axis = 1)\n",
    "df_combined = df_combined.reset_index(drop=False)\n",
    "\n",
    "#filtering the obvious words which could cause noise\n",
    "df_combined = df_combined.sort_values(by=['count'], ascending=False)\n",
    "\n",
    "df_combined = df_combined.reset_index(drop=True)\n",
    "df_combined_10 = df_combined.head(10)\n",
    "\n",
    "\n",
    "\n"
   ]
  },
  {
   "cell_type": "code",
   "execution_count": 5,
   "metadata": {
    "colab": {
     "base_uri": "https://localhost:8080/",
     "height": 301
    },
    "executionInfo": {
     "elapsed": 877,
     "status": "ok",
     "timestamp": 1628916085890,
     "user": {
      "displayName": "CMPT 353",
      "photoUrl": "",
      "userId": "08881496583835622212"
     },
     "user_tz": 420
    },
    "id": "_UbjHVieHz1f",
    "outputId": "74338566-0bf6-40ca-90d1-8d865f919e37"
   },
   "outputs": [
    {
     "data": {
      "image/png": "[encoded data removed]",
      "text/plain": [
       "<Figure size 432x288 with 1 Axes>"
      ]
     },
     "metadata": {},
     "output_type": "display_data"
    }
   ],
   "source": [
    "# Plotting histogram for words and their count\n",
    "plt.bar(df_combined_10['Ticker'],df_combined_10['count'])\n",
    "plt.xlabel('Stock Ticker')\n",
    "plt.ylabel('Count')\n",
    "plt.title('Number of times Stock Mentioned (comments extracted from csv)')\n",
    "plt.savefig('./data/Plots/Num_times_stock_mentioned_from_csv.png')\n",
    "plt.show()\n"
   ]
  },
  {
   "cell_type": "markdown",
   "metadata": {
    "id": "5yQwrW9UM-sT"
   },
   "source": [
    "Using API (Jyotiraditya)"
   ]
  },
  {
   "cell_type": "code",
   "execution_count": 6,
   "metadata": {
    "colab": {
     "base_uri": "https://localhost:8080/",
     "height": 357
    },
    "executionInfo": {
     "elapsed": 32638,
     "status": "ok",
     "timestamp": 1628916118521,
     "user": {
      "displayName": "CMPT 353",
      "photoUrl": "",
      "userId": "08881496583835622212"
     },
     "user_tz": 420
    },
    "id": "qN623J-xHz5Z",
    "outputId": "e8968a19-7443-4caa-85a5-15df72679711"
   },
   "outputs": [
    {
     "data": {
      "text/html": [
       "<div>\n",
       "<style scoped>\n",
       "    .dataframe tbody tr th:only-of-type {\n",
       "        vertical-align: middle;\n",
       "    }\n",
       "\n",
       "    .dataframe tbody tr th {\n",
       "        vertical-align: top;\n",
       "    }\n",
       "\n",
       "    .dataframe thead th {\n",
       "        text-align: right;\n",
       "    }\n",
       "</style>\n",
       "<table border=\"1\" class=\"dataframe\">\n",
       "  <thead>\n",
       "    <tr style=\"text-align: right;\">\n",
       "      <th></th>\n",
       "      <th>count</th>\n",
       "      <th>Ticker</th>\n",
       "    </tr>\n",
       "  </thead>\n",
       "  <tbody>\n",
       "    <tr>\n",
       "      <th>0</th>\n",
       "      <td>49</td>\n",
       "      <td>AMC</td>\n",
       "    </tr>\n",
       "    <tr>\n",
       "      <th>1</th>\n",
       "      <td>15</td>\n",
       "      <td>GME</td>\n",
       "    </tr>\n",
       "    <tr>\n",
       "      <th>2</th>\n",
       "      <td>15</td>\n",
       "      <td>HOOD</td>\n",
       "    </tr>\n",
       "    <tr>\n",
       "      <th>3</th>\n",
       "      <td>12</td>\n",
       "      <td>ON</td>\n",
       "    </tr>\n",
       "    <tr>\n",
       "      <th>4</th>\n",
       "      <td>10</td>\n",
       "      <td>RH</td>\n",
       "    </tr>\n",
       "    <tr>\n",
       "      <th>5</th>\n",
       "      <td>9</td>\n",
       "      <td>CLOV</td>\n",
       "    </tr>\n",
       "    <tr>\n",
       "      <th>6</th>\n",
       "      <td>9</td>\n",
       "      <td>MRNA</td>\n",
       "    </tr>\n",
       "    <tr>\n",
       "      <th>7</th>\n",
       "      <td>8</td>\n",
       "      <td>MVST</td>\n",
       "    </tr>\n",
       "    <tr>\n",
       "      <th>8</th>\n",
       "      <td>8</td>\n",
       "      <td>GE</td>\n",
       "    </tr>\n",
       "    <tr>\n",
       "      <th>9</th>\n",
       "      <td>7</td>\n",
       "      <td>AMD</td>\n",
       "    </tr>\n",
       "  </tbody>\n",
       "</table>\n",
       "</div>"
      ],
      "text/plain": [
       "   count Ticker\n",
       "0     49    AMC\n",
       "1     15    GME\n",
       "2     15   HOOD\n",
       "3     12     ON\n",
       "4     10     RH\n",
       "5      9   CLOV\n",
       "6      9   MRNA\n",
       "7      8   MVST\n",
       "8      8     GE\n",
       "9      7    AMD"
      ]
     },
     "execution_count": 6,
     "metadata": {},
     "output_type": "execute_result"
    }
   ],
   "source": [
    "# using API to extract the reddit posts from most famous stock market Subreddits\n",
    "api = PushshiftAPI()\n",
    "start_epoch = int(dt.datetime(2021, 8, 1).timestamp())\n",
    "end = int(dt.datetime(2021,8,12).timestamp())\n",
    "\n",
    "# Wallstreetbets\n",
    "result = list(api.search_submissions(after=start_epoch, before = end,\n",
    "                           subreddit='wallstreetbets',\n",
    "                           filter=['title'], limit=1000))\n",
    "#Stocks\n",
    "result_stocks=list(api.search_submissions(after=start_epoch, before = end,\n",
    "                           subreddit='stocks',\n",
    "                           filter=['title'], limit=1000))\n",
    "#Robinhood\n",
    "result_robin=list(api.search_submissions(after=start_epoch, before = end,\n",
    "                           subreddit='robinhood',\n",
    "                           filter=['title'], limit=1000))\n",
    "\n",
    "#Dogecoin\n",
    "result_doge=list(api.search_submissions(after=start_epoch, before = end,\n",
    "                           subreddit='dogecoin',\n",
    "                           filter=['title'], limit=1000))\n",
    "\n",
    "# fitering stock tickers from subreddit comments\n",
    "ticker = []\n",
    "pattern = r'\\b([A-Z]+(?:\\'+[A-Z]+)*\\b)'\n",
    "for r in result:\n",
    "  split = r.title.split()\n",
    "  ticker.append(list(filter(lambda word: re.findall(pattern, word),split)))\n",
    "for r in result_stocks:\n",
    "  split = r.title.split()\n",
    "  ticker.append(list(filter(lambda word: re.findall(pattern, word), split)))\n",
    "for r in result_robin:\n",
    " split = r.title.split()\n",
    " ticker.append(list(filter(lambda word: re.findall(pattern, word), split)))\n",
    "for r in result_doge:\n",
    " split = r.title.split()\n",
    " ticker.append(list(filter(lambda word: re.findall(pattern, word), split)))\n",
    "\n",
    "# combining stock_tickers\n",
    "list_combined = []\n",
    "for i in ticker:\n",
    "  list_combined.extend(i)\n",
    "\n",
    "# print(list_combined)\n",
    "df_combined = pd.DataFrame(list_combined, columns = ['Ticker'])\n",
    "df_combined['count'] = 1\n",
    "df_combined['Ticker'] = df_combined['Ticker'].str.upper()\n",
    "df_combined['contains'] = df_combined['Ticker'].isin(tickers['Symbol'])\n",
    "df_combined = df_combined[df_combined['contains'] != False]\n",
    "# #reference from https://datascienceparichay.com/article/pandas-groupby-count-of-rows-in-each-group/\n",
    "df_combined = df_combined.groupby('Ticker').count()\n",
    "df_combined = df_combined.drop(['contains'], axis = 1)\n",
    "# df_combined = df_combined.reset_index(drop=False)\n",
    "\n",
    "df_combined=df_combined.sort_values('count', ascending = False)\n",
    "\n",
    "df_combined['Ticker'] = df_combined.index\n",
    "\n",
    "#filtering the obvious words which could cause noise\n",
    "\n",
    "df_combined = df_combined.reset_index(drop=True)\n",
    "df_combined_10 = df_combined.head(10)\n",
    "\n",
    "df_combined_10.to_csv('./data/Processed_data/df_combined_10.csv')\n",
    "df_combined.to_csv('./data/Processed_data/df_combined.csv')\n",
    "\n",
    "df_combined_10"
   ]
  },
  {
   "cell_type": "code",
   "execution_count": 7,
   "metadata": {
    "colab": {
     "base_uri": "https://localhost:8080/",
     "height": 301
    },
    "executionInfo": {
     "elapsed": 639,
     "status": "ok",
     "timestamp": 1628916119156,
     "user": {
      "displayName": "CMPT 353",
      "photoUrl": "",
      "userId": "08881496583835622212"
     },
     "user_tz": 420
    },
    "id": "llNRvBA5Hz7J",
    "outputId": "8e159851-4269-4071-988f-933b9e768a5a"
   },
   "outputs": [
    {
     "data": {
      "image/png": "[encoded data removed]",
      "text/plain": [
       "<Figure size 432x288 with 1 Axes>"
      ]
     },
     "metadata": {},
     "output_type": "display_data"
    }
   ],
   "source": [
    "\n",
    "# Plotting histogram for words and their count\n",
    "plt.bar(df_combined_10['Ticker'],df_combined_10['count'])\n",
    "plt.xlabel('Stock Ticker')\n",
    "plt.ylabel('Count')\n",
    "plt.title('Number of times Stock Mentioned (comments from API)')\n",
    "plt.savefig('./data/Plots/Num_times_stock_mentioned_from_API_comments.png')\n",
    "plt.show()\n"
   ]
  }
 ],
 "metadata": {
  "colab": {
   "authorship_tag": "ABX9TyMuV3CRTiKib1NGxE1qigI1",
   "collapsed_sections": [],
   "name": "02-Extracting_reddit_posts.ipynb",
   "provenance": []
  },
  "kernelspec": {
   "display_name": "Python 3",
   "language": "python",
   "name": "python3"
  },
  "language_info": {
   "codemirror_mode": {
    "name": "ipython",
    "version": 3
   },
   "file_extension": ".py",
   "mimetype": "text/x-python",
   "name": "python",
   "nbconvert_exporter": "python",
   "pygments_lexer": "ipython3",
   "version": "3.8.10"
  }
 },
 "nbformat": 4,
 "nbformat_minor": 1
}
