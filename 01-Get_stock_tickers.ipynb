{
 "cells": [
  {
   "cell_type": "code",
   "execution_count": 1,
   "metadata": {
    "id": "QI9iHSMeVjTq"
   },
   "outputs": [],
   "source": [
    "import pandas as pd\n",
    "import numpy as np"
   ]
  },
  {
   "cell_type": "markdown",
   "metadata": {
    "id": "vHMOSf9Fdt7M"
   },
   "source": [
    "# Uncomment if using Google Collab with Google drive"
   ]
  },
  {
   "cell_type": "code",
   "execution_count": 2,
   "metadata": {
    "id": "RziY2pS0XPhL"
   },
   "outputs": [],
   "source": [
    "## Uncomment it if you are using Google Collab\n",
    "# import os\n",
    "# from google.colab import drive\n",
    "# drive.mount('/content/drive/')\n",
    "# %cd /content/drive/MyDrive/cmpt353-group-project/"
   ]
  },
  {
   "cell_type": "markdown",
   "metadata": {
    "id": "BlN-6pXJd8xd"
   },
   "source": [
    "# Extracting Ticker Symbols (Ritika and Dhairya)"
   ]
  },
  {
   "cell_type": "code",
   "execution_count": 3,
   "metadata": {
    "id": "8UgFSu7uXGCz"
   },
   "outputs": [],
   "source": [
    "# Getting data from csv files\n",
    "stock_ticker = pd.read_csv('./data/Raw_data/symbols_valid_meta.csv')\n",
    "nsdq_tck='./data/Raw_data/nasdaq_screener_1627582529559.csv'\n",
    "nys_tck='./data/Raw_data/nasdaq_screener_1627582550272.csv'\n",
    "\n",
    "\n",
    "stock_ticker = stock_ticker[['Symbol','Security Name']].copy()\n",
    "nsdq=pd.read_csv(nsdq_tck)\n",
    "nys=pd.read_csv(nys_tck)\n",
    "nsdq=nsdq.drop(['Last Sale','Net Change', '% Change', 'Market Cap', 'Country','IPO Year','Volume','Sector','Industry'],axis=1)\n",
    "nys=nys.drop(['Last Sale','Net Change', '% Change', 'Market Cap', 'Country','IPO Year','Volume','Sector','Industry'],axis=1)\n",
    "\n",
    "stock_ticker = pd.concat([nsdq,nys]).drop_duplicates().reset_index(drop=True)\n",
    "\n",
    "\n",
    "#filtering the obvious words which are not relevant to stock market\n",
    "stock_ticker = stock_ticker[stock_ticker['Symbol']!='BUY']\n",
    "stock_ticker = stock_ticker[stock_ticker['Symbol']!='A']\n",
    "stock_ticker = stock_ticker[stock_ticker['Symbol']!='SELL']\n",
    "stock_ticker = stock_ticker[stock_ticker['Symbol']!='YOLO']\n",
    "stock_ticker = stock_ticker[stock_ticker['Symbol']!='DD']\n",
    "stock_ticker = stock_ticker[stock_ticker['Symbol']!='FOR']\n",
    "stock_ticker = stock_ticker[stock_ticker['Symbol']!='ARE']\n",
    "stock_ticker = stock_ticker[stock_ticker['Symbol']!='DO']\n",
    "stock_ticker = stock_ticker[stock_ticker['Symbol']!='ALL']\n",
    "stock_ticker = stock_ticker[stock_ticker['Symbol']!='CAN']\n",
    "stock_ticker = stock_ticker[stock_ticker['Symbol']!='AT']\n",
    "stock_ticker = stock_ticker[stock_ticker['Symbol']!='BE']\n",
    "stock_ticker = stock_ticker[stock_ticker['Symbol']!='CEO']\n",
    "stock_ticker = stock_ticker[stock_ticker['Symbol']!='F']\n",
    "stock_ticker = stock_ticker[stock_ticker['Symbol']!='IS']\n",
    "\n",
    "stock_ticker.to_csv('./data/Processed_data/stock_ticker.csv', index = False)"
   ]
  },
  {
   "cell_type": "code",
   "execution_count": null,
   "metadata": {
    "id": "7HdPGY9PC8jC"
   },
   "outputs": [],
   "source": []
  }
 ],
 "metadata": {
  "colab": {
   "authorship_tag": "ABX9TyM3lEoQ69gyXA2qnNcr+Sb2",
   "collapsed_sections": [],
   "name": "01-Get_stock_tickers.ipynb",
   "provenance": []
  },
  "kernelspec": {
   "display_name": "Python 3",
   "language": "python",
   "name": "python3"
  },
  "language_info": {
   "codemirror_mode": {
    "name": "ipython",
    "version": 3
   },
   "file_extension": ".py",
   "mimetype": "text/x-python",
   "name": "python",
   "nbconvert_exporter": "python",
   "pygments_lexer": "ipython3",
   "version": "3.8.10"
  }
 },
 "nbformat": 4,
 "nbformat_minor": 1
}
